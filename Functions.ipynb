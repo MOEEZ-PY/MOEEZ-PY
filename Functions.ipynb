{
 "cells": [
  {
   "cell_type": "markdown",
   "id": "f33dde39-86fe-4b16-a1f1-9097eef87801",
   "metadata": {},
   "source": [
    "Functions:\n",
    "ADD FUNCTION"
   ]
  },
  {
   "cell_type": "code",
   "execution_count": 4,
   "id": "2ff2ba49-45b1-4135-8fbc-656531fedcdb",
   "metadata": {},
   "outputs": [],
   "source": [
    "def add(a):\n",
    "    \"\"\"This is function is for adding\"\"\"\n",
    "    b=a+1\n",
    "    print(a,\"If you add one\",b)\n",
    "    return b"
   ]
  },
  {
   "cell_type": "code",
   "execution_count": 8,
   "id": "57bdf4c0-4cc4-4fb7-87ca-accaf8ee5062",
   "metadata": {},
   "outputs": [
    {
     "name": "stdout",
     "output_type": "stream",
     "text": [
      "33 If you add one 34\n"
     ]
    },
    {
     "data": {
      "text/plain": [
       "34"
      ]
     },
     "execution_count": 8,
     "metadata": {},
     "output_type": "execute_result"
    }
   ],
   "source": [
    "add(33)"
   ]
  },
  {
   "cell_type": "markdown",
   "id": "4a39507b-9b08-46aa-855b-f9a07fd48d59",
   "metadata": {},
   "source": [
    "The Subtract Function"
   ]
  },
  {
   "cell_type": "code",
   "execution_count": 16,
   "id": "61ed7c10-5063-49c5-a494-139be41708fc",
   "metadata": {},
   "outputs": [],
   "source": [
    "def sub(a, b):\n",
    "    \"\"\"This function is for subtracting of two numbers\"\"\"\n",
    "    c=a-b\n",
    "    print(a,b, \"if you subtract these both numbers you will get\",c)\n",
    "    return c"
   ]
  },
  {
   "cell_type": "code",
   "execution_count": 17,
   "id": "5d9b065d-36cb-42d9-9ce6-a49d4f024cf8",
   "metadata": {},
   "outputs": [
    {
     "name": "stdout",
     "output_type": "stream",
     "text": [
      "10 6 if you subtract these both numbers you will get 4\n"
     ]
    },
    {
     "data": {
      "text/plain": [
       "4"
      ]
     },
     "execution_count": 17,
     "metadata": {},
     "output_type": "execute_result"
    }
   ],
   "source": [
    "sub(10,6)"
   ]
  },
  {
   "cell_type": "markdown",
   "id": "bd0da02b-ddf1-436b-ad1f-c1a8574463ef",
   "metadata": {},
   "source": [
    "Multiplication Function:"
   ]
  },
  {
   "cell_type": "code",
   "execution_count": 18,
   "id": "6349e007-5790-4157-a8f6-18afe3d0c310",
   "metadata": {},
   "outputs": [],
   "source": [
    "def multiply(a,b):\n",
    "    \"\"\"This is th function of multiplication of two numbers\"\"\"\n",
    "    c=a*b\n",
    "    print(a,b,\"if you multiply these two numbers you will get\",c)\n",
    "    return c"
   ]
  },
  {
   "cell_type": "code",
   "execution_count": 21,
   "id": "6ded333a-3f46-4e11-a77a-dfa044e1baed",
   "metadata": {},
   "outputs": [
    {
     "name": "stdout",
     "output_type": "stream",
     "text": [
      "2324 2342 if you multiply these two numbers you will get 5442808\n"
     ]
    },
    {
     "data": {
      "text/plain": [
       "5442808"
      ]
     },
     "execution_count": 21,
     "metadata": {},
     "output_type": "execute_result"
    }
   ],
   "source": [
    "multiply(2324,2342)"
   ]
  },
  {
   "cell_type": "markdown",
   "id": "8e644ec2-4cf9-4347-aa6e-99191894eb8f",
   "metadata": {},
   "source": [
    "Division Funtion:"
   ]
  },
  {
   "cell_type": "code",
   "execution_count": 22,
   "id": "2c1aa162-07bf-4aec-8c93-82079f712f7b",
   "metadata": {},
   "outputs": [],
   "source": [
    "def div(a,b):\n",
    "    \"\"\"This is the function of division of two numbers\"\"\"\n",
    "    c=a/b\n",
    "    print(a,b,\"If you divide these two numbers you will get\",c)\n",
    "    return c"
   ]
  },
  {
   "cell_type": "code",
   "execution_count": 24,
   "id": "fa6a4133-a221-4b49-b19c-a82b5f65cdd0",
   "metadata": {},
   "outputs": [
    {
     "name": "stdout",
     "output_type": "stream",
     "text": [
      "66 3.187 If you divide these two numbers you will get 20.70913084405397\n"
     ]
    },
    {
     "data": {
      "text/plain": [
       "20.70913084405397"
      ]
     },
     "execution_count": 24,
     "metadata": {},
     "output_type": "execute_result"
    }
   ],
   "source": [
    "div(66,3.187)"
   ]
  },
  {
   "cell_type": "markdown",
   "id": "698943b2-4410-42be-80c9-10930e5b526b",
   "metadata": {},
   "source": [
    "Average Function:"
   ]
  },
  {
   "cell_type": "code",
   "execution_count": 33,
   "id": "821fd915-cae4-482d-a33f-c5658a113e71",
   "metadata": {},
   "outputs": [],
   "source": [
    "def avg(a,b):\n",
    "    \"\"\"This function will execute the average of two number\"\"\"\n",
    "    c=a+b/2\n",
    "    print(a, b,\"The average of these two numbers will be\",c)\n",
    "    return c"
   ]
  },
  {
   "cell_type": "code",
   "execution_count": 35,
   "id": "9307bc02-e0f4-4789-9410-5e8712eb106c",
   "metadata": {},
   "outputs": [
    {
     "name": "stdout",
     "output_type": "stream",
     "text": [
      "98 98 The average of these two numbers will be 147.0\n"
     ]
    },
    {
     "data": {
      "text/plain": [
       "147.0"
      ]
     },
     "execution_count": 35,
     "metadata": {},
     "output_type": "execute_result"
    }
   ],
   "source": [
    "avg(98,98)"
   ]
  },
  {
   "cell_type": "code",
   "execution_count": 36,
   "id": "c8ff27ba-e1c1-4706-84ed-663d723b44ac",
   "metadata": {},
   "outputs": [],
   "source": [
    "\n",
    "\n",
    "def Equation(a,b):\n",
    "    c = a + b + 2 * a * b - 1\n",
    "    if(c < 1000):\n",
    "        c = 0 \n",
    "    else:\n",
    "        c = 5\n",
    "    return(c) "
   ]
  },
  {
   "cell_type": "code",
   "execution_count": 44,
   "id": "652c12dd-0569-4bc3-a072-e1a93f15d558",
   "metadata": {},
   "outputs": [
    {
     "data": {
      "text/plain": [
       "5"
      ]
     },
     "execution_count": 44,
     "metadata": {},
     "output_type": "execute_result"
    }
   ],
   "source": [
    "Equation(22,32)"
   ]
  },
  {
   "cell_type": "markdown",
   "id": "167ef5fd-2d80-4e42-a9a9-058ee46537c8",
   "metadata": {},
   "source": [
    "Global Variables"
   ]
  },
  {
   "cell_type": "code",
   "execution_count": 54,
   "id": "5891a5ed-8bb6-437b-8137-08a7584e079f",
   "metadata": {},
   "outputs": [
    {
     "name": "stdout",
     "output_type": "stream",
     "text": [
      "Michael Jackson is an artist\n"
     ]
    }
   ],
   "source": [
    "# Example of global variable\n",
    "\n",
    "artist = \"Michael Jackson\"\n",
    "def printer1(artist):\n",
    "    internal_var1 = artist\n",
    "    print(artist, \"is an artist\")\n",
    "    \n",
    "printer1(artist)"
   ]
  },
  {
   "cell_type": "code",
   "execution_count": null,
   "id": "75fa2f85-14d2-4142-8f59-2cb3c242e9ee",
   "metadata": {},
   "outputs": [],
   "source": []
  }
 ],
 "metadata": {
  "kernelspec": {
   "display_name": "Python",
   "language": "python",
   "name": "conda-env-python-py"
  },
  "language_info": {
   "codemirror_mode": {
    "name": "ipython",
    "version": 3
   },
   "file_extension": ".py",
   "mimetype": "text/x-python",
   "name": "python",
   "nbconvert_exporter": "python",
   "pygments_lexer": "ipython3",
   "version": "3.7.12"
  }
 },
 "nbformat": 4,
 "nbformat_minor": 5
}
