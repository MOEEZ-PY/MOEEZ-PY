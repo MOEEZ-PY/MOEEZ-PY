{
 "cells": [
  {
   "cell_type": "markdown",
   "id": "1ef54ecb-d721-433b-b1b1-15d4ff93e244",
   "metadata": {},
   "source": [
    "Exception Handling"
   ]
  },
  {
   "cell_type": "code",
   "execution_count": 7,
   "id": "6ba9ca05-802b-4ded-b669-1f612deaa47f",
   "metadata": {},
   "outputs": [
    {
     "name": "stdin",
     "output_type": "stream",
     "text": [
      "Please enter number which is divisible by a 8\n"
     ]
    },
    {
     "name": "stdout",
     "output_type": "stream",
     "text": [
      "Successfully implemented a= 0.125\n"
     ]
    }
   ],
   "source": [
    "a=1\n",
    "\n",
    "try:\n",
    "    b=int(input(\"Please enter number which is divisible by a\"))\n",
    "    a= a/b\n",
    "    print(\"Successfully implemented a=\",a)\n",
    "except ZeroDivisionError:\n",
    "    print(\"There is an error because 0 is not divisible\")\n",
    "except ValueError:\n",
    "    print(\"You did not provide a number\")\n",
    "except:\n",
    "    print(\"Some other error occur\")"
   ]
  },
  {
   "cell_type": "markdown",
   "id": "fb10d854-7638-4784-97e9-97bc2772dfc2",
   "metadata": {},
   "source": [
    "Use of Else"
   ]
  },
  {
   "cell_type": "code",
   "execution_count": 10,
   "id": "219631df-49cf-409d-8cae-d344d7fec576",
   "metadata": {},
   "outputs": [
    {
     "name": "stdin",
     "output_type": "stream",
     "text": [
      "Please enter number which is divisible by a hi\n"
     ]
    },
    {
     "name": "stdout",
     "output_type": "stream",
     "text": [
      "You did not provide a number\n"
     ]
    }
   ],
   "source": [
    "a=1\n",
    "\n",
    "try:\n",
    "    b=int(input(\"Please enter number which is divisible by a\"))\n",
    "    a= a/b\n",
    "except ZeroDivisionError:\n",
    "    print(\"There is an error because 0 is not divisible\")\n",
    "except ValueError:\n",
    "    print(\"You did not provide a number\")\n",
    "except:\n",
    "    print(\"Some other error occur\")\n",
    "else:\n",
    "    print(\"Successfully Implemented a\",a)"
   ]
  },
  {
   "cell_type": "markdown",
   "id": "53e660c0-e086-4fec-a468-b89728b7c672",
   "metadata": {},
   "source": [
    "Us"
   ]
  }
 ],
 "metadata": {
  "kernelspec": {
   "display_name": "Python",
   "language": "python",
   "name": "conda-env-python-py"
  },
  "language_info": {
   "codemirror_mode": {
    "name": "ipython",
    "version": 3
   },
   "file_extension": ".py",
   "mimetype": "text/x-python",
   "name": "python",
   "nbconvert_exporter": "python",
   "pygments_lexer": "ipython3",
   "version": "3.7.12"
  }
 },
 "nbformat": 4,
 "nbformat_minor": 5
}
