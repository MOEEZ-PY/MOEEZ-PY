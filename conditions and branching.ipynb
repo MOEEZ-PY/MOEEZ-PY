{
 "cells": [
  {
   "cell_type": "markdown",
   "id": "801f0149-36a1-4b58-9fbe-53189b5eced2",
   "metadata": {},
   "source": [
    "IF Statement Example"
   ]
  },
  {
   "cell_type": "code",
   "execution_count": 5,
   "id": "f613668b-2dd9-41f2-b13d-b75cfd8c3d85",
   "metadata": {},
   "outputs": [
    {
     "name": "stdout",
     "output_type": "stream",
     "text": [
      "you are 19 years old\n"
     ]
    }
   ],
   "source": [
    "age= 19\n",
    "if(age>18):\n",
    "    print(\"you are\", age, \"years old\")"
   ]
  },
  {
   "cell_type": "markdown",
   "id": "909d3108-8011-4d72-901a-b21a7c75a1b1",
   "metadata": {},
   "source": [
    "Else Statement Example"
   ]
  },
  {
   "cell_type": "code",
   "execution_count": 7,
   "id": "293de902-dba2-46f5-91e9-42f553851d9d",
   "metadata": {},
   "outputs": [
    {
     "name": "stdout",
     "output_type": "stream",
     "text": [
      "you are 17 years old\n"
     ]
    }
   ],
   "source": [
    "age=17\n",
    "if(age>18):\n",
    "    print(\"You are\", age, \"years old\")\n",
    "else:\n",
    "    print(\"you are\", age, \"years old\")"
   ]
  },
  {
   "cell_type": "markdown",
   "id": "62f38cbb-39d4-4d50-ba59-e0dbd657b855",
   "metadata": {},
   "source": [
    "Elif Statement Example"
   ]
  },
  {
   "cell_type": "code",
   "execution_count": 11,
   "id": "7692dd9d-8b54-463d-8452-6f0e7d93de7b",
   "metadata": {},
   "outputs": [
    {
     "name": "stdout",
     "output_type": "stream",
     "text": [
      "Wow you are 18 years old\n"
     ]
    }
   ],
   "source": [
    "age=18\n",
    "if(age>18):\n",
    "    print(\"You are\", age, \"years old\")\n",
    "elif(age==18):\n",
    "    print(\"Wow you are\", age, \"years old\")\n",
    "else:\n",
    "    print(\"Ok you are\", age ,\"years old\")"
   ]
  },
  {
   "cell_type": "markdown",
   "id": "574b1193-4639-4aba-90fb-d1e9841877d0",
   "metadata": {},
   "source": [
    "Logical Operators Examples:\n",
    "The AND Operation\n"
   ]
  },
  {
   "cell_type": "code",
   "execution_count": 38,
   "id": "79a08c3d-6289-47c0-b387-7cd9ac51edd5",
   "metadata": {},
   "outputs": [
    {
     "name": "stdout",
     "output_type": "stream",
     "text": [
      "Such a young 29 this is\n"
     ]
    }
   ],
   "source": [
    "age=29\n",
    "if(age>20)and(age<35):\n",
    "    print(\"Such a young\",age, \"this is\")\n",
    "else:\n",
    "    print(\"oh you are in your\",age,\"you should do a morning walk\")"
   ]
  },
  {
   "cell_type": "markdown",
   "id": "688994a2-853c-4ed8-b617-b614f5ea01f5",
   "metadata": {},
   "source": [
    "The OR Operation"
   ]
  },
  {
   "cell_type": "code",
   "execution_count": 52,
   "id": "b056d917-737c-4695-a59d-9cfeb2e022e3",
   "metadata": {},
   "outputs": [
    {
     "name": "stdout",
     "output_type": "stream",
     "text": [
      "Hello! Man\n"
     ]
    }
   ],
   "source": [
    "age=23\n",
    "if(age<15) or (age<22):\n",
    "    print(\"Concentrate on Studies\")\n",
    "else:\n",
    "    print(\"Hello! Man\")"
   ]
  },
  {
   "cell_type": "markdown",
   "id": "6c0db4e5-b874-4c15-b89c-62082886c70a",
   "metadata": {},
   "source": [
    "NOT Operation"
   ]
  },
  {
   "cell_type": "code",
   "execution_count": 74,
   "id": "4e854143-c89a-4e93-9fd6-ea4fa216ad68",
   "metadata": {},
   "outputs": [
    {
     "name": "stdout",
     "output_type": "stream",
     "text": [
      "Your age is not in your 40s\n"
     ]
    }
   ],
   "source": [
    "age=22\n",
    "if not(age==\"30\"):\n",
    "    print(\"Your age is not in your 40s\")"
   ]
  },
  {
   "cell_type": "code",
   "execution_count": null,
   "id": "3e318ffc-c2ae-4ead-bcbf-2fea46b97e36",
   "metadata": {},
   "outputs": [],
   "source": []
  }
 ],
 "metadata": {
  "kernelspec": {
   "display_name": "Python",
   "language": "python",
   "name": "conda-env-python-py"
  },
  "language_info": {
   "codemirror_mode": {
    "name": "ipython",
    "version": 3
   },
   "file_extension": ".py",
   "mimetype": "text/x-python",
   "name": "python",
   "nbconvert_exporter": "python",
   "pygments_lexer": "ipython3",
   "version": "3.7.12"
  }
 },
 "nbformat": 4,
 "nbformat_minor": 5
}
