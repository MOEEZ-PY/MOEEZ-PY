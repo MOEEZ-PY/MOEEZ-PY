{
 "cells": [
  {
   "cell_type": "markdown",
   "id": "a8b12651-a557-4ec6-b9cb-6a55615207ce",
   "metadata": {},
   "source": [
    "For Loop"
   ]
  },
  {
   "cell_type": "code",
   "execution_count": 1,
   "id": "062a1649-21d0-4118-b30d-5a915e9ef310",
   "metadata": {},
   "outputs": [
    {
     "name": "stdout",
     "output_type": "stream",
     "text": [
      "Hi! This is my for loop\n",
      "Hi! This is my for loop\n",
      "Hi! This is my for loop\n",
      "Hi! This is my for loop\n",
      "Hi! This is my for loop\n",
      "Hi! This is my for loop\n",
      "Hi! This is my for loop\n",
      "Hi! This is my for loop\n",
      "Hi! This is my for loop\n",
      "Hi! This is my for loop\n"
     ]
    }
   ],
   "source": [
    "for i in range (0,10):\n",
    "    print(\"Hi! This is my for loop\")"
   ]
  },
  {
   "cell_type": "code",
   "execution_count": 15,
   "id": "36470d65-1f34-493d-a650-2260d65eafa7",
   "metadata": {},
   "outputs": [
    {
     "name": "stdout",
     "output_type": "stream",
     "text": [
      "Before addition 0 is apple\n",
      "After Addition 0 is apricot\n",
      "fruits\n",
      "Before addition 1 is apricot\n",
      "After Addition 1 is apricot\n",
      "fruits\n",
      "Before addition 2 is apricot\n",
      "After Addition 2 is apricot\n",
      "fruits\n",
      "Before addition 3 is apricot\n",
      "After Addition 3 is apricot\n",
      "fruits\n"
     ]
    }
   ],
   "source": [
    "fruits = [\"mango\", \"apple\", \"banana\", \"grape\"]\n",
    "for i in range(0,4):\n",
    "    print(\"Before addition\",i,\"is\",fruits[1])\n",
    "    fruits[1]='apricot'\n",
    "    print(\"After Addition\",i, \"is\", fruits[1])"
   ]
  },
  {
   "cell_type": "markdown",
   "id": "60ce6880-59ab-4e4d-ad6d-7ed215232391",
   "metadata": {},
   "source": [
    "While Loop"
   ]
  },
  {
   "cell_type": "code",
   "execution_count": 30,
   "id": "5cc8a5e2-8347-4803-9ba5-e8b19c320dc7",
   "metadata": {},
   "outputs": [
    {
     "name": "stdout",
     "output_type": "stream",
     "text": [
      "1\n",
      "2\n",
      "4\n",
      "5\n",
      "6\n",
      "7\n",
      "8\n",
      "9\n",
      "10\n"
     ]
    }
   ],
   "source": [
    "i = 0\n",
    "while i < 10:\n",
    "  i += 1\n",
    "  if i == 3:\n",
    "    continue\n",
    "  print(i)\n"
   ]
  },
  {
   "cell_type": "code",
   "execution_count": 31,
   "id": "74cfeeba-c900-4e89-b9bc-ccd9759166dc",
   "metadata": {},
   "outputs": [
    {
     "name": "stdout",
     "output_type": "stream",
     "text": [
      "1\n",
      "2\n",
      "3\n",
      "4\n"
     ]
    }
   ],
   "source": [
    "i = 1\n",
    "while i < 10:\n",
    "  print(i)\n",
    "  if i == 4:\n",
    "    break\n",
    "  i += 1"
   ]
  },
  {
   "cell_type": "code",
   "execution_count": null,
   "id": "74bcb9d8-a167-4d40-9d1e-f5e32258c51b",
   "metadata": {},
   "outputs": [],
   "source": []
  }
 ],
 "metadata": {
  "kernelspec": {
   "display_name": "Python",
   "language": "python",
   "name": "conda-env-python-py"
  },
  "language_info": {
   "codemirror_mode": {
    "name": "ipython",
    "version": 3
   },
   "file_extension": ".py",
   "mimetype": "text/x-python",
   "name": "python",
   "nbconvert_exporter": "python",
   "pygments_lexer": "ipython3",
   "version": "3.7.12"
  }
 },
 "nbformat": 4,
 "nbformat_minor": 5
}
